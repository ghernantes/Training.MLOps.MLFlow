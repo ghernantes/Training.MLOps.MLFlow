{
 "cells": [
  {
   "cell_type": "markdown",
   "id": "68daaba6",
   "metadata": {},
   "source": [
    "# 3. Tips and Tricks"
   ]
  },
  {
   "cell_type": "code",
   "execution_count": 1,
   "id": "d55b5866",
   "metadata": {},
   "outputs": [],
   "source": [
    "import mlflow\n",
    "\n",
    "remote_server_uri = \"http://0.0.0.0:5000\"   # set to your server URI\n",
    "mlflow.set_tracking_uri(remote_server_uri)  # or set the MLFLOW_TRACKING_URI in the env"
   ]
  },
  {
   "cell_type": "markdown",
   "id": "5b8c8b11",
   "metadata": {},
   "source": [
    "## 3.1 Tags\n",
    "\n",
    "`mlflow.set_tag()` sets a **single key-value tag** in the currently active run. The key and value are both strings. (Use `mlflow.set_tags()` to set multiple tags at once.)"
   ]
  },
  {
   "cell_type": "markdown",
   "id": "e9f9be25",
   "metadata": {},
   "source": [
    "### Tag runs\n",
    "\n",
    "We want to set tags now after the run completed. Could be, for example, further testing completed before you want and can deploy a model."
   ]
  },
  {
   "cell_type": "code",
   "execution_count": 6,
   "id": "c4eac24e",
   "metadata": {},
   "outputs": [
    {
     "data": {
      "text/plain": [
       "[<Experiment: artifact_location='mlruns/1', creation_time=1677680573325, experiment_id='1', last_update_time=1677680573325, lifecycle_stage='active', name='penguin_classification', tags={}>,\n",
       " <Experiment: artifact_location='mlruns/0', creation_time=1677680556522, experiment_id='0', last_update_time=1677680556522, lifecycle_stage='active', name='Default', tags={}>]"
      ]
     },
     "execution_count": 6,
     "metadata": {},
     "output_type": "execute_result"
    }
   ],
   "source": [
    "from  mlflow.tracking import MlflowClient\n",
    "\n",
    "client = MlflowClient()\n",
    "experiments = client.search_experiments() # returns a list of mlflow.entities.Experiment\n",
    "experiments"
   ]
  },
  {
   "cell_type": "code",
   "execution_count": 8,
   "id": "c10cc819",
   "metadata": {},
   "outputs": [
    {
     "data": {
      "text/plain": [
       "[<Run: data=<RunData: metrics={'test_accuracy': 0.9651162790697675}, params={'max_depth': '3', 'max_leaf_nodes': '4', 'num_samples': '342'}, tags={'mlflow.log-model.history': '[{\"run_id\": \"9112cae7ba4547f390029a8e93d9ffd6\", '\n",
       "                              '\"artifact_path\": \"model\", \"utc_time_created\": '\n",
       "                              '\"2023-03-01 14:22:57.754153\", \"flavors\": '\n",
       "                              '{\"python_function\": {\"model_path\": \"model.pkl\", '\n",
       "                              '\"predict_fn\": \"predict\", \"loader_module\": '\n",
       "                              '\"mlflow.sklearn\", \"python_version\": \"3.10.9\", '\n",
       "                              '\"env\": {\"conda\": \"conda.yaml\", \"virtualenv\": '\n",
       "                              '\"python_env.yaml\"}}, \"sklearn\": '\n",
       "                              '{\"pickled_model\": \"model.pkl\", '\n",
       "                              '\"sklearn_version\": \"1.2.1\", '\n",
       "                              '\"serialization_format\": \"cloudpickle\", \"code\": '\n",
       "                              'null}}, \"model_uuid\": '\n",
       "                              '\"a3e8a854bde74604b24c5a1183887a6e\", '\n",
       "                              '\"mlflow_version\": \"2.1.1\", \"signature\": '\n",
       "                              '{\"inputs\": \"[{\\\\\"name\\\\\": \\\\\"Culmen Length '\n",
       "                              '(mm)\\\\\", \\\\\"type\\\\\": \\\\\"double\\\\\"}, {\\\\\"name\\\\\": '\n",
       "                              '\\\\\"Culmen Depth (mm)\\\\\", \\\\\"type\\\\\": '\n",
       "                              '\\\\\"double\\\\\"}]\", \"outputs\": \"[{\\\\\"type\\\\\": '\n",
       "                              '\\\\\"string\\\\\"}]\"}}]',\n",
       "  'mlflow.runName': 'serious-wasp-882',\n",
       "  'mlflow.source.name': '/home/gustavo/miniconda3/envs/mlflow/lib/python3.10/site-packages/ipykernel_launcher.py',\n",
       "  'mlflow.source.type': 'LOCAL',\n",
       "  'mlflow.user': 'gustavo'}>, info=<RunInfo: artifact_uri='mlruns/1/9112cae7ba4547f390029a8e93d9ffd6/artifacts', end_time=1677680579394, experiment_id='1', lifecycle_stage='active', run_id='9112cae7ba4547f390029a8e93d9ffd6', run_name='serious-wasp-882', run_uuid='9112cae7ba4547f390029a8e93d9ffd6', start_time=1677680577660, status='FINISHED', user_id='gustavo'>>,\n",
       " <Run: data=<RunData: metrics={'test_accuracy': 0.9651162790697675}, params={'max_depth': '3', 'max_leaf_nodes': '4', 'num_samples': '342'}, tags={'mlflow.log-model.history': '[{\"run_id\": \"e95b6bdba96642c0acecec981b89a140\", '\n",
       "                              '\"artifact_path\": \"model\", \"utc_time_created\": '\n",
       "                              '\"2023-03-01 14:22:54.892952\", \"flavors\": '\n",
       "                              '{\"python_function\": {\"model_path\": \"model.pkl\", '\n",
       "                              '\"predict_fn\": \"predict\", \"loader_module\": '\n",
       "                              '\"mlflow.sklearn\", \"python_version\": \"3.10.9\", '\n",
       "                              '\"env\": {\"conda\": \"conda.yaml\", \"virtualenv\": '\n",
       "                              '\"python_env.yaml\"}}, \"sklearn\": '\n",
       "                              '{\"pickled_model\": \"model.pkl\", '\n",
       "                              '\"sklearn_version\": \"1.2.1\", '\n",
       "                              '\"serialization_format\": \"cloudpickle\", \"code\": '\n",
       "                              'null}}, \"model_uuid\": '\n",
       "                              '\"19cc790cbe5f4494ae118289fdf89833\", '\n",
       "                              '\"mlflow_version\": \"2.1.1\"}]',\n",
       "  'mlflow.runName': 'carefree-cow-472',\n",
       "  'mlflow.source.name': '/home/gustavo/miniconda3/envs/mlflow/lib/python3.10/site-packages/ipykernel_launcher.py',\n",
       "  'mlflow.source.type': 'LOCAL',\n",
       "  'mlflow.user': 'gustavo'}>, info=<RunInfo: artifact_uri='mlruns/1/e95b6bdba96642c0acecec981b89a140/artifacts', end_time=1677680577368, experiment_id='1', lifecycle_stage='active', run_id='e95b6bdba96642c0acecec981b89a140', run_name='carefree-cow-472', run_uuid='e95b6bdba96642c0acecec981b89a140', start_time=1677680574813, status='FINISHED', user_id='gustavo'>>,\n",
       " <Run: data=<RunData: metrics={'test_accuracy': 0.9651162790697675}, params={'max_depth': '3', 'max_leaf_nodes': '4', 'num_samples': '342'}, tags={'mlflow.runName': 'bald-ram-656',\n",
       "  'mlflow.source.name': '/home/gustavo/miniconda3/envs/mlflow/lib/python3.10/site-packages/ipykernel_launcher.py',\n",
       "  'mlflow.source.type': 'LOCAL',\n",
       "  'mlflow.user': 'gustavo'}>, info=<RunInfo: artifact_uri='mlruns/1/03d63f886f7842ecb4ee5498e2195644/artifacts', end_time=1677680574704, experiment_id='1', lifecycle_stage='active', run_id='03d63f886f7842ecb4ee5498e2195644', run_name='bald-ram-656', run_uuid='03d63f886f7842ecb4ee5498e2195644', start_time=1677680574615, status='FINISHED', user_id='gustavo'>>,\n",
       " <Run: data=<RunData: metrics={'test_accuracy': 0.9651162790697675}, params={'max_depth': '3', 'max_leaf_nodes': '4'}, tags={'mlflow.runName': 'abundant-bass-360',\n",
       "  'mlflow.source.name': '/home/gustavo/miniconda3/envs/mlflow/lib/python3.10/site-packages/ipykernel_launcher.py',\n",
       "  'mlflow.source.type': 'LOCAL',\n",
       "  'mlflow.user': 'gustavo'}>, info=<RunInfo: artifact_uri='mlruns/1/62a4104f9bb845b794e1c96a8ae5e988/artifacts', end_time=1677680574518, experiment_id='1', lifecycle_stage='active', run_id='62a4104f9bb845b794e1c96a8ae5e988', run_name='abundant-bass-360', run_uuid='62a4104f9bb845b794e1c96a8ae5e988', start_time=1677680574437, status='FINISHED', user_id='gustavo'>>,\n",
       " <Run: data=<RunData: metrics={'test_accuracy': 0.9651162790697675}, params={'max_depth': '3', 'max_leaf_nodes': '4'}, tags={'mlflow.runName': 'overjoyed-boar-79',\n",
       "  'mlflow.source.name': '/home/gustavo/miniconda3/envs/mlflow/lib/python3.10/site-packages/ipykernel_launcher.py',\n",
       "  'mlflow.source.type': 'LOCAL',\n",
       "  'mlflow.user': 'gustavo'}>, info=<RunInfo: artifact_uri='mlruns/1/f3bc51b65a4a4f98b9d6e3ca9da238b5/artifacts', end_time=1677680573839, experiment_id='1', lifecycle_stage='active', run_id='f3bc51b65a4a4f98b9d6e3ca9da238b5', run_name='overjoyed-boar-79', run_uuid='f3bc51b65a4a4f98b9d6e3ca9da238b5', start_time=1677680573741, status='FINISHED', user_id='gustavo'>>]"
      ]
     },
     "execution_count": 8,
     "metadata": {},
     "output_type": "execute_result"
    }
   ],
   "source": [
    "runs = client.search_runs(experiment_ids=[1]) # returns a list of mlflow.entities.Experiment\n",
    "runs"
   ]
  },
  {
   "cell_type": "code",
   "execution_count": 9,
   "id": "05a0f618",
   "metadata": {},
   "outputs": [],
   "source": [
    "run_id = \"9112cae7ba4547f390029a8e93d9ffd6\"\n",
    "client.set_tag(run_id, \"tag_key\", \"tag_value\")"
   ]
  },
  {
   "cell_type": "markdown",
   "id": "8c66c042",
   "metadata": {},
   "source": [
    "<img src='../img/mlflow_ui_pinguins_experiment_run_tagged.png' alt='' width='1000'>"
   ]
  },
  {
   "cell_type": "markdown",
   "id": "a1d278d3",
   "metadata": {},
   "source": [
    "### Tag models"
   ]
  },
  {
   "cell_type": "code",
   "execution_count": 18,
   "id": "126f2a70",
   "metadata": {},
   "outputs": [
    {
     "name": "stdout",
     "output_type": "stream",
     "text": [
      "Model source:  mlruns/1/9112cae7ba4547f390029a8e93d9ffd6/artifacts/model\n",
      "Model Version: 1\n"
     ]
    }
   ],
   "source": [
    "latest_model = client.get_latest_versions(\"penguins_clf\")[-1]\n",
    "print(f\"Model source:  {latest_model.source}\")\n",
    "print(f\"Model Version: {latest_model.version}\")"
   ]
  },
  {
   "cell_type": "code",
   "execution_count": 19,
   "id": "83698ba0",
   "metadata": {},
   "outputs": [],
   "source": [
    "client.set_model_version_tag(\"penguins_clf\", latest_model.version, \"tag_key\", \"tag_value\")"
   ]
  },
  {
   "cell_type": "markdown",
   "id": "1c2ff032",
   "metadata": {},
   "source": [
    "<img src='../img/mlflow_ui_pinguins_model_tagged.png' alt='' width='1000'>"
   ]
  },
  {
   "cell_type": "markdown",
   "id": "552dd8bc",
   "metadata": {},
   "source": [
    "## 3.2 Custom models\n",
    "\n",
    "https://mlflow.org/docs/latest/models.html#id47"
   ]
  },
  {
   "cell_type": "markdown",
   "id": "b96d8df3",
   "metadata": {},
   "source": []
  },
  {
   "cell_type": "markdown",
   "id": "4fd48471",
   "metadata": {},
   "source": [
    "## 3.3 MLflow Examples\n",
    "\n",
    "https://github.com/mlflow/mlflow/tree/master/examples"
   ]
  },
  {
   "cell_type": "code",
   "execution_count": null,
   "id": "b3db1d92",
   "metadata": {},
   "outputs": [],
   "source": [
    "dd"
   ]
  }
 ],
 "metadata": {
  "kernelspec": {
   "display_name": "mlflow",
   "language": "python",
   "name": "python3"
  },
  "language_info": {
   "codemirror_mode": {
    "name": "ipython",
    "version": 3
   },
   "file_extension": ".py",
   "mimetype": "text/x-python",
   "name": "python",
   "nbconvert_exporter": "python",
   "pygments_lexer": "ipython3",
   "version": "3.10.9"
  },
  "vscode": {
   "interpreter": {
    "hash": "06edfb0a5c746fc39005b6ae5d5bc93de8214c7bd0d55b767355d186d7ff4fbb"
   }
  }
 },
 "nbformat": 4,
 "nbformat_minor": 5
}
