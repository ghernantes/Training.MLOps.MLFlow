{
 "cells": [
  {
   "cell_type": "markdown",
   "id": "68daaba6",
   "metadata": {},
   "source": [
    "# 3. Tips and Tricks"
   ]
  },
  {
   "cell_type": "code",
   "execution_count": 1,
   "id": "d55b5866",
   "metadata": {},
   "outputs": [],
   "source": [
    "import mlflow\n",
    "\n",
    "server_uri = \"http://localhost:5003\"     # port 5003: a local tracking server \n",
    "#server_uri = \"http://localhost:5007\"     # port 5007: a local docker container running a tracking server\n",
    "\n",
    "mlflow.set_tracking_uri(server_uri)       # or set the MLFLOW_TRACKING_URI in the env"
   ]
  },
  {
   "cell_type": "markdown",
   "id": "5b8c8b11",
   "metadata": {},
   "source": [
    "## 3.1 Tags\n",
    "\n",
    "`mlflow.set_tag()` sets a **single key-value tag** in the currently active run. The key and value are both strings. (Use `mlflow.set_tags()` to set multiple tags at once.)"
   ]
  },
  {
   "cell_type": "markdown",
   "id": "e9f9be25",
   "metadata": {},
   "source": [
    "### Tag runs\n",
    "\n",
    "We want to set tags now after the run completed. Could be, for example, further testing completed before you want and can deploy a model."
   ]
  },
  {
   "cell_type": "code",
   "execution_count": 2,
   "id": "c4eac24e",
   "metadata": {},
   "outputs": [
    {
     "data": {
      "text/plain": [
       "[<Experiment: artifact_location='./mlruns/1', creation_time=1679856369819, experiment_id='1', last_update_time=1679856369819, lifecycle_stage='active', name='penguin_classification', tags={}>,\n",
       " <Experiment: artifact_location='./mlruns/0', creation_time=1679856291062, experiment_id='0', last_update_time=1679856291062, lifecycle_stage='active', name='Default', tags={}>]"
      ]
     },
     "execution_count": 2,
     "metadata": {},
     "output_type": "execute_result"
    }
   ],
   "source": [
    "from  mlflow.tracking import MlflowClient\n",
    "\n",
    "client = MlflowClient()\n",
    "experiments = client.search_experiments() # returns a list of mlflow.entities.Experiment\n",
    "experiments"
   ]
  },
  {
   "cell_type": "code",
   "execution_count": 3,
   "id": "c10cc819",
   "metadata": {},
   "outputs": [
    {
     "data": {
      "text/plain": [
       "[<Run: data=<RunData: metrics={'test_accuracy': 0.9651162790697675}, params={'max_depth': '3', 'max_leaf_nodes': '4', 'num_samples': '342'}, tags={'mlflow.log-model.history': '[{\"run_id\": \"8e0f51052f4648f99bece2c8ae6e55cc\", '\n",
       "                              '\"artifact_path\": \"model\", \"utc_time_created\": '\n",
       "                              '\"2023-03-26 19:06:01.841021\", \"flavors\": '\n",
       "                              '{\"python_function\": {\"model_path\": \"model.pkl\", '\n",
       "                              '\"predict_fn\": \"predict\", \"loader_module\": '\n",
       "                              '\"mlflow.sklearn\", \"python_version\": \"3.10.9\", '\n",
       "                              '\"env\": {\"conda\": \"conda.yaml\", \"virtualenv\": '\n",
       "                              '\"python_env.yaml\"}}, \"sklearn\": '\n",
       "                              '{\"pickled_model\": \"model.pkl\", '\n",
       "                              '\"sklearn_version\": \"1.2.1\", '\n",
       "                              '\"serialization_format\": \"cloudpickle\", \"code\": '\n",
       "                              'null}}, \"model_uuid\": '\n",
       "                              '\"604c3a7bc7a340fdae7e155ff89b384a\", '\n",
       "                              '\"mlflow_version\": \"2.1.1\", \"signature\": '\n",
       "                              '{\"inputs\": \"[{\\\\\"name\\\\\": \\\\\"Culmen Length '\n",
       "                              '(mm)\\\\\", \\\\\"type\\\\\": \\\\\"double\\\\\"}, {\\\\\"name\\\\\": '\n",
       "                              '\\\\\"Culmen Depth (mm)\\\\\", \\\\\"type\\\\\": '\n",
       "                              '\\\\\"double\\\\\"}]\", \"outputs\": \"[{\\\\\"type\\\\\": '\n",
       "                              '\\\\\"string\\\\\"}]\"}}]',\n",
       "  'mlflow.runName': 'bouncy-perch-64',\n",
       "  'mlflow.source.name': '/home/gustavo/miniconda3/envs/mlflow/lib/python3.10/site-packages/ipykernel_launcher.py',\n",
       "  'mlflow.source.type': 'LOCAL',\n",
       "  'mlflow.user': 'gustavo'}>, info=<RunInfo: artifact_uri='./mlruns/1/8e0f51052f4648f99bece2c8ae6e55cc/artifacts', end_time=1679857564142, experiment_id='1', lifecycle_stage='active', run_id='8e0f51052f4648f99bece2c8ae6e55cc', run_name='bouncy-perch-64', run_uuid='8e0f51052f4648f99bece2c8ae6e55cc', start_time=1679857561687, status='FINISHED', user_id='gustavo'>>,\n",
       " <Run: data=<RunData: metrics={'test_accuracy': 0.9651162790697675}, params={'max_depth': '3', 'max_leaf_nodes': '4', 'num_samples': '342'}, tags={'mlflow.log-model.history': '[{\"run_id\": \"f7a63ac5ca554188a67636e3ed8007fe\", '\n",
       "                              '\"artifact_path\": \"model\", \"utc_time_created\": '\n",
       "                              '\"2023-03-26 19:02:06.881775\", \"flavors\": '\n",
       "                              '{\"python_function\": {\"model_path\": \"model.pkl\", '\n",
       "                              '\"predict_fn\": \"predict\", \"loader_module\": '\n",
       "                              '\"mlflow.sklearn\", \"python_version\": \"3.10.9\", '\n",
       "                              '\"env\": {\"conda\": \"conda.yaml\", \"virtualenv\": '\n",
       "                              '\"python_env.yaml\"}}, \"sklearn\": '\n",
       "                              '{\"pickled_model\": \"model.pkl\", '\n",
       "                              '\"sklearn_version\": \"1.2.1\", '\n",
       "                              '\"serialization_format\": \"cloudpickle\", \"code\": '\n",
       "                              'null}}, \"model_uuid\": '\n",
       "                              '\"9b2b85ab8ed549ba8776bad9757bba99\", '\n",
       "                              '\"mlflow_version\": \"2.1.1\"}]',\n",
       "  'mlflow.runName': 'orderly-lamb-907',\n",
       "  'mlflow.source.name': '/home/gustavo/miniconda3/envs/mlflow/lib/python3.10/site-packages/ipykernel_launcher.py',\n",
       "  'mlflow.source.type': 'LOCAL',\n",
       "  'mlflow.user': 'gustavo'}>, info=<RunInfo: artifact_uri='./mlruns/1/f7a63ac5ca554188a67636e3ed8007fe/artifacts', end_time=1679857329026, experiment_id='1', lifecycle_stage='active', run_id='f7a63ac5ca554188a67636e3ed8007fe', run_name='orderly-lamb-907', run_uuid='f7a63ac5ca554188a67636e3ed8007fe', start_time=1679857326729, status='FINISHED', user_id='gustavo'>>,\n",
       " <Run: data=<RunData: metrics={'test_accuracy': 0.9651162790697675}, params={'max_depth': '3', 'max_leaf_nodes': '4', 'num_samples': '342'}, tags={'mlflow.log-model.history': '[{\"run_id\": \"c34477f32c214ae09a58c3ede71f086f\", '\n",
       "                              '\"artifact_path\": \"model\", \"utc_time_created\": '\n",
       "                              '\"2023-03-26 19:01:04.002359\", \"flavors\": '\n",
       "                              '{\"python_function\": {\"model_path\": \"model.pkl\", '\n",
       "                              '\"predict_fn\": \"predict\", \"loader_module\": '\n",
       "                              '\"mlflow.sklearn\", \"python_version\": \"3.10.9\", '\n",
       "                              '\"env\": {\"conda\": \"conda.yaml\", \"virtualenv\": '\n",
       "                              '\"python_env.yaml\"}}, \"sklearn\": '\n",
       "                              '{\"pickled_model\": \"model.pkl\", '\n",
       "                              '\"sklearn_version\": \"1.2.1\", '\n",
       "                              '\"serialization_format\": \"cloudpickle\", \"code\": '\n",
       "                              'null}}, \"model_uuid\": '\n",
       "                              '\"ef90db4fcdab4b848568bb4201419c97\", '\n",
       "                              '\"mlflow_version\": \"2.1.1\"}]',\n",
       "  'mlflow.runName': 'suave-finch-974',\n",
       "  'mlflow.source.name': '/home/gustavo/miniconda3/envs/mlflow/lib/python3.10/site-packages/ipykernel_launcher.py',\n",
       "  'mlflow.source.type': 'LOCAL',\n",
       "  'mlflow.user': 'gustavo'}>, info=<RunInfo: artifact_uri='./mlruns/1/c34477f32c214ae09a58c3ede71f086f/artifacts', end_time=1679857266329, experiment_id='1', lifecycle_stage='active', run_id='c34477f32c214ae09a58c3ede71f086f', run_name='suave-finch-974', run_uuid='c34477f32c214ae09a58c3ede71f086f', start_time=1679857263827, status='FINISHED', user_id='gustavo'>>,\n",
       " <Run: data=<RunData: metrics={'test_accuracy': 0.9651162790697675}, params={'max_depth': '3', 'max_leaf_nodes': '4', 'num_samples': '342'}, tags={'mlflow.log-model.history': '[{\"run_id\": \"0f9e7a190a374e069d9b9208284b614b\", '\n",
       "                              '\"artifact_path\": \"model\", \"utc_time_created\": '\n",
       "                              '\"2023-03-26 18:59:43.397784\", \"flavors\": '\n",
       "                              '{\"python_function\": {\"model_path\": \"model.pkl\", '\n",
       "                              '\"predict_fn\": \"predict\", \"loader_module\": '\n",
       "                              '\"mlflow.sklearn\", \"python_version\": \"3.10.9\", '\n",
       "                              '\"env\": {\"conda\": \"conda.yaml\", \"virtualenv\": '\n",
       "                              '\"python_env.yaml\"}}, \"sklearn\": '\n",
       "                              '{\"pickled_model\": \"model.pkl\", '\n",
       "                              '\"sklearn_version\": \"1.2.1\", '\n",
       "                              '\"serialization_format\": \"cloudpickle\", \"code\": '\n",
       "                              'null}}, \"model_uuid\": '\n",
       "                              '\"6b6860b85c024325afbf57e749b56480\", '\n",
       "                              '\"mlflow_version\": \"2.1.1\"}]',\n",
       "  'mlflow.runName': 'selective-foal-576',\n",
       "  'mlflow.source.name': '/home/gustavo/miniconda3/envs/mlflow/lib/python3.10/site-packages/ipykernel_launcher.py',\n",
       "  'mlflow.source.type': 'LOCAL',\n",
       "  'mlflow.user': 'gustavo'}>, info=<RunInfo: artifact_uri='./mlruns/1/0f9e7a190a374e069d9b9208284b614b/artifacts', end_time=1679857186687, experiment_id='1', lifecycle_stage='active', run_id='0f9e7a190a374e069d9b9208284b614b', run_name='selective-foal-576', run_uuid='0f9e7a190a374e069d9b9208284b614b', start_time=1679857182881, status='FINISHED', user_id='gustavo'>>,\n",
       " <Run: data=<RunData: metrics={'test_accuracy': 0.9651162790697675}, params={'max_depth': '3', 'max_leaf_nodes': '4', 'num_samples': '342'}, tags={'mlflow.runName': 'thoughtful-perch-679',\n",
       "  'mlflow.source.name': '/home/gustavo/miniconda3/envs/mlflow/lib/python3.10/site-packages/ipykernel_launcher.py',\n",
       "  'mlflow.source.type': 'LOCAL',\n",
       "  'mlflow.user': 'gustavo'}>, info=<RunInfo: artifact_uri='./mlruns/1/6b45743850f24bcdaeb320c147fb1acf/artifacts', end_time=1679857004813, experiment_id='1', lifecycle_stage='active', run_id='6b45743850f24bcdaeb320c147fb1acf', run_name='thoughtful-perch-679', run_uuid='6b45743850f24bcdaeb320c147fb1acf', start_time=1679857004657, status='FINISHED', user_id='gustavo'>>,\n",
       " <Run: data=<RunData: metrics={'test_accuracy': 0.9651162790697675}, params={'max_depth': '3', 'max_leaf_nodes': '4', 'num_samples': '342'}, tags={'mlflow.runName': 'delicate-asp-81',\n",
       "  'mlflow.source.name': '/home/gustavo/miniconda3/envs/mlflow/lib/python3.10/site-packages/ipykernel_launcher.py',\n",
       "  'mlflow.source.type': 'LOCAL',\n",
       "  'mlflow.user': 'gustavo'}>, info=<RunInfo: artifact_uri='./mlruns/1/a9bd629639bf49b49fc8b563d2caed51/artifacts', end_time=1679856841285, experiment_id='1', lifecycle_stage='active', run_id='a9bd629639bf49b49fc8b563d2caed51', run_name='delicate-asp-81', run_uuid='a9bd629639bf49b49fc8b563d2caed51', start_time=1679856841204, status='FINISHED', user_id='gustavo'>>,\n",
       " <Run: data=<RunData: metrics={'test_accuracy': 0.9651162790697675}, params={'max_depth': '3', 'max_leaf_nodes': '4', 'num_samples': '342'}, tags={'mlflow.runName': 'mysterious-doe-671',\n",
       "  'mlflow.source.name': '/home/gustavo/miniconda3/envs/mlflow/lib/python3.10/site-packages/ipykernel_launcher.py',\n",
       "  'mlflow.source.type': 'LOCAL',\n",
       "  'mlflow.user': 'gustavo'}>, info=<RunInfo: artifact_uri='./mlruns/1/95f7c2acb58745878239cb9b8c0d8a7d/artifacts', end_time=1679856840446, experiment_id='1', lifecycle_stage='active', run_id='95f7c2acb58745878239cb9b8c0d8a7d', run_name='mysterious-doe-671', run_uuid='95f7c2acb58745878239cb9b8c0d8a7d', start_time=1679856840235, status='FINISHED', user_id='gustavo'>>,\n",
       " <Run: data=<RunData: metrics={'test_accuracy': 0.9651162790697675}, params={'max_depth': '3', 'max_leaf_nodes': '4', 'num_samples': '342'}, tags={'mlflow.runName': 'nebulous-zebra-213',\n",
       "  'mlflow.source.name': '/home/gustavo/miniconda3/envs/mlflow/lib/python3.10/site-packages/ipykernel_launcher.py',\n",
       "  'mlflow.source.type': 'LOCAL',\n",
       "  'mlflow.user': 'gustavo'}>, info=<RunInfo: artifact_uri='./mlruns/1/7f91a058cc0e4a9ca89494bff955b38b/artifacts', end_time=1679856819473, experiment_id='1', lifecycle_stage='active', run_id='7f91a058cc0e4a9ca89494bff955b38b', run_name='nebulous-zebra-213', run_uuid='7f91a058cc0e4a9ca89494bff955b38b', start_time=1679856819370, status='FINISHED', user_id='gustavo'>>,\n",
       " <Run: data=<RunData: metrics={'test_accuracy': 0.9651162790697675}, params={'max_depth': '3', 'max_leaf_nodes': '4', 'num_samples': '342'}, tags={'mlflow.runName': 'lyrical-fish-630',\n",
       "  'mlflow.source.name': '/home/gustavo/miniconda3/envs/mlflow/lib/python3.10/site-packages/ipykernel_launcher.py',\n",
       "  'mlflow.source.type': 'LOCAL',\n",
       "  'mlflow.user': 'gustavo'}>, info=<RunInfo: artifact_uri='./mlruns/1/996ff943dcdc4637b8663376873c0d48/artifacts', end_time=1679856778569, experiment_id='1', lifecycle_stage='active', run_id='996ff943dcdc4637b8663376873c0d48', run_name='lyrical-fish-630', run_uuid='996ff943dcdc4637b8663376873c0d48', start_time=1679856778421, status='FINISHED', user_id='gustavo'>>,\n",
       " <Run: data=<RunData: metrics={'test_accuracy': 0.9651162790697675}, params={'max_depth': '3', 'max_leaf_nodes': '4', 'num_samples': '342'}, tags={'mlflow.runName': 'rogue-flea-785',\n",
       "  'mlflow.source.name': '/home/gustavo/miniconda3/envs/mlflow/lib/python3.10/site-packages/ipykernel_launcher.py',\n",
       "  'mlflow.source.type': 'LOCAL',\n",
       "  'mlflow.user': 'gustavo'}>, info=<RunInfo: artifact_uri='./mlruns/1/6419a4b659a447788147b6f2a3c4f73d/artifacts', end_time=1679856712457, experiment_id='1', lifecycle_stage='active', run_id='6419a4b659a447788147b6f2a3c4f73d', run_name='rogue-flea-785', run_uuid='6419a4b659a447788147b6f2a3c4f73d', start_time=1679856711900, status='FINISHED', user_id='gustavo'>>,\n",
       " <Run: data=<RunData: metrics={'test_accuracy': 0.9651162790697675}, params={'max_depth': '3', 'max_leaf_nodes': '4', 'num_samples': '342'}, tags={'mlflow.runName': 'receptive-eel-284',\n",
       "  'mlflow.source.name': '/home/gustavo/miniconda3/envs/mlflow/lib/python3.10/site-packages/ipykernel_launcher.py',\n",
       "  'mlflow.source.type': 'LOCAL',\n",
       "  'mlflow.user': 'gustavo'}>, info=<RunInfo: artifact_uri='./mlruns/1/4f3836b211ce427299715d54377b6ae8/artifacts', end_time=1679856427729, experiment_id='1', lifecycle_stage='active', run_id='4f3836b211ce427299715d54377b6ae8', run_name='receptive-eel-284', run_uuid='4f3836b211ce427299715d54377b6ae8', start_time=1679856427626, status='FINISHED', user_id='gustavo'>>,\n",
       " <Run: data=<RunData: metrics={'test_accuracy': 0.9651162790697675}, params={'max_depth': '3', 'max_leaf_nodes': '4'}, tags={'mlflow.runName': 'gregarious-wasp-219',\n",
       "  'mlflow.source.name': '/home/gustavo/miniconda3/envs/mlflow/lib/python3.10/site-packages/ipykernel_launcher.py',\n",
       "  'mlflow.source.type': 'LOCAL',\n",
       "  'mlflow.user': 'gustavo'}>, info=<RunInfo: artifact_uri='./mlruns/1/41777d673b4c4000b0242fb9c0c94a12/artifacts', end_time=1679856397699, experiment_id='1', lifecycle_stage='active', run_id='41777d673b4c4000b0242fb9c0c94a12', run_name='gregarious-wasp-219', run_uuid='41777d673b4c4000b0242fb9c0c94a12', start_time=1679856397602, status='FINISHED', user_id='gustavo'>>,\n",
       " <Run: data=<RunData: metrics={'test_accuracy': 0.9651162790697675}, params={'max_depth': '3', 'max_leaf_nodes': '4'}, tags={'mlflow.runName': 'charming-slug-453',\n",
       "  'mlflow.source.name': '/home/gustavo/miniconda3/envs/mlflow/lib/python3.10/site-packages/ipykernel_launcher.py',\n",
       "  'mlflow.source.type': 'LOCAL',\n",
       "  'mlflow.user': 'gustavo'}>, info=<RunInfo: artifact_uri='./mlruns/1/d812ecae304e4df084a152f38e7023dd/artifacts', end_time=1679856374510, experiment_id='1', lifecycle_stage='active', run_id='d812ecae304e4df084a152f38e7023dd', run_name='charming-slug-453', run_uuid='d812ecae304e4df084a152f38e7023dd', start_time=1679856374094, status='FINISHED', user_id='gustavo'>>]"
      ]
     },
     "execution_count": 3,
     "metadata": {},
     "output_type": "execute_result"
    }
   ],
   "source": [
    "runs = client.search_runs(experiment_ids=[1]) # returns a list of mlflow.entities.Experiment\n",
    "runs"
   ]
  },
  {
   "cell_type": "code",
   "execution_count": 5,
   "id": "05a0f618",
   "metadata": {},
   "outputs": [],
   "source": [
    "run_id = \"8e0f51052f4648f99bece2c8ae6e55cc\"\n",
    "client.set_tag(run_id, \"tag_key\", \"tag_value\")"
   ]
  },
  {
   "cell_type": "markdown",
   "id": "8c66c042",
   "metadata": {},
   "source": [
    "<img src='../img/mlflow_ui_pinguins_experiment_run_tagged.png' alt='' width='1000'>"
   ]
  },
  {
   "cell_type": "markdown",
   "id": "a1d278d3",
   "metadata": {},
   "source": [
    "### Tag models"
   ]
  },
  {
   "cell_type": "code",
   "execution_count": 6,
   "id": "126f2a70",
   "metadata": {},
   "outputs": [
    {
     "name": "stdout",
     "output_type": "stream",
     "text": [
      "Model source:  ./mlruns/1/8e0f51052f4648f99bece2c8ae6e55cc/artifacts/model\n",
      "Model Version: 1\n"
     ]
    }
   ],
   "source": [
    "latest_model = client.get_latest_versions(\"penguins_clf\")[-1]\n",
    "print(f\"Model source:  {latest_model.source}\")\n",
    "print(f\"Model Version: {latest_model.version}\")"
   ]
  },
  {
   "cell_type": "code",
   "execution_count": 7,
   "id": "83698ba0",
   "metadata": {},
   "outputs": [],
   "source": [
    "client.set_model_version_tag(\"penguins_clf\", latest_model.version, \"tag_key\", \"tag_value\")"
   ]
  },
  {
   "cell_type": "markdown",
   "id": "1c2ff032",
   "metadata": {},
   "source": [
    "<img src='../img/mlflow_ui_pinguins_model_tagged.png' alt='' width='1000'>"
   ]
  },
  {
   "cell_type": "markdown",
   "id": "552dd8bc",
   "metadata": {},
   "source": [
    "## 3.2 Custom models\n",
    "\n",
    "https://mlflow.org/docs/latest/models.html#id47"
   ]
  },
  {
   "cell_type": "markdown",
   "id": "4fd48471",
   "metadata": {},
   "source": [
    "## 3.3 MLflow Examples\n",
    "\n",
    "https://github.com/mlflow/mlflow/tree/master/examples"
   ]
  }
 ],
 "metadata": {
  "kernelspec": {
   "display_name": "mlflow",
   "language": "python",
   "name": "python3"
  },
  "language_info": {
   "codemirror_mode": {
    "name": "ipython",
    "version": 3
   },
   "file_extension": ".py",
   "mimetype": "text/x-python",
   "name": "python",
   "nbconvert_exporter": "python",
   "pygments_lexer": "ipython3",
   "version": "3.10.9"
  },
  "vscode": {
   "interpreter": {
    "hash": "06edfb0a5c746fc39005b6ae5d5bc93de8214c7bd0d55b767355d186d7ff4fbb"
   }
  }
 },
 "nbformat": 4,
 "nbformat_minor": 5
}
